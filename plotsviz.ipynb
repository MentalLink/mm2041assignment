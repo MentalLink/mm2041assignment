{
  "nbformat": 4,
  "nbformat_minor": 0,
  "metadata": {
    "colab": {
      "provenance": []
    },
    "kernelspec": {
      "name": "python3",
      "display_name": "Python 3"
    },
    "language_info": {
      "name": "python"
    }
  },
  "cells": [
    {
      "cell_type": "code",
      "source": [
        "import numpy as np\n",
        "import matplotlib.pyplot as plt\n",
        "from mpl_toolkits.mplot3d import Axes3D\n",
        "\n",
        "# Get user inputs\n",
        "R = float(input(\"Enter the sphere radius: \"))\n",
        "U = float(input(\"Enter the fluid velocity: \"))\n",
        "N = int(input(\"Enter the grid resolution (N x N x N): \"))\n",
        "\n",
        "# Create a 3D grid\n",
        "X, Y, Z = np.mgrid[-2:2:complex(N), -2:2:complex(N), -2:2:complex(N)]\n",
        "R_mesh = np.sqrt(X**2 + Y**2 + Z**2)\n",
        "\n",
        "# Calculate potential flow solution\n",
        "phi = U * (X + R**3 / (R_mesh**3) * X)\n",
        "u = np.gradient(phi, X, axis=0)\n",
        "v = np.gradient(phi, Y, axis=1)\n",
        "w = np.gradient(phi, Z, axis=2)\n",
        "\n",
        "# Calculate vorticity (curl)\n",
        "curl_x = np.gradient(w, Y, axis=1) - np.gradient(v, Z, axis=2)\n",
        "curl_y = np.gradient(u, Z, axis=2) - np.gradient(w, X, axis=0)\n",
        "curl_z = np.gradient(v, X, axis=0) - np.gradient(u, Y, axis=1)\n",
        "\n",
        "# Plot velocity field\n",
        "fig = plt.figure(figsize=(10, 6))\n",
        "ax = fig.add_subplot(121, projection='3d')\n",
        "ax.quiver(X, Y, Z, u, v, w, length=0.1, normalize=True)\n",
        "ax.set_xlabel('X')\n",
        "ax.set_ylabel('Y')\n",
        "ax.set_zlabel('Z')\n",
        "ax.set_title('Velocity Field')\n",
        "\n",
        "# Plot vorticity field\n",
        "ax = fig.add_subplot(122, projection='3d')\n",
        "ax.quiver(X, Y, Z, curl_x, curl_y, curl_z, length=0.1, normalize=True)\n",
        "ax.set_xlabel('X')\n",
        "ax.set_ylabel('Y')\n",
        "ax.set_zlabel('Z')\n",
        "ax.set_title('Vorticity Field')\n",
        "\n",
        "\n",
        "plt.show()"
      ],
      "metadata": {
        "colab": {
          "base_uri": "https://localhost:8080/"
        },
        "id": "t1Q9BugcS0K6",
        "outputId": "e7e534bd-144f-4510-f870-fcfa53b018a5"
      },
      "execution_count": null,
      "outputs": [
        {
          "name": "stdout",
          "output_type": "stream",
          "text": [
            "Enter the sphere radius: 2\n",
            "Enter the fluid velocity: 5\n",
            "Enter the grid resolution (N x N x N): 8000\n"
          ]
        }
      ]
    },
    {
      "cell_type": "code",
      "source": [
        "# Importing package\n",
        "from sympy import *\n",
        "from sympy.abc import *\n",
        "\n",
        "p_x,u_0=symbols('p_x, u_0')\n",
        "\n",
        "u=Function('u')(y)\n",
        "# Setting boundary condition\n",
        "bc={u.subs(y,0):0,u.subs(y,h):u_0}\n",
        "# Formingdifferential equation\n",
        "de=Eq(mu*u.diff(y,y),p_x)\n",
        "# Solving differentialequation\n",
        "sol=dsolve(de,ics=bc)\n",
        "simplify(expand(sol.rhs/u_0).coeff(p_x))\n",
        "# Obtaining final result by dividing it by normalizing it with u_0\n",
        "u_u0=expand(simplify(sol.rhs.subs(p_x,-alpha*2*mu*u_0/h**2))/u_0)\n",
        "pprint(u_u0)\n"
      ],
      "metadata": {
        "id": "767ix4k-H2qR",
        "colab": {
          "base_uri": "https://localhost:8080/"
        },
        "outputId": "aabc441b-45b3-429e-a8fc-a9d258c20f95"
      },
      "execution_count": 1,
      "outputs": [
        {
          "output_type": "stream",
          "name": "stdout",
          "text": [
            "         2    \n",
            "α⋅y   α⋅y    y\n",
            "─── - ──── + ─\n",
            " h      2    h\n",
            "       h      \n"
          ]
        }
      ]
    },
    {
      "cell_type": "code",
      "source": [
        "import numpy"
      ],
      "metadata": {
        "id": "Kp4MyhVuXF5v"
      },
      "execution_count": 25,
      "outputs": []
    },
    {
      "cell_type": "code",
      "source": [
        "# Parameters\n",
        "height = 100                      # grid height\n",
        "width = 100                     # grid width\n",
        "viscosity = 0.002                # viscosity\n",
        "omega = 1./(3*viscosity + 0.5)   # relaxation parameter (a function of viscosity)\n",
        "u0 = 0.05                         # initial in-flow speed (eastward)\n",
        "four9ths = 4./9.                 # a constant\n",
        "one9th   = 1./9.                 # a constant\n",
        "one36th  = 1./36.                # a constant\n",
        "\n",
        "# Microscopic densities\n",
        "n0  = numpy.zeros(height*width)  # Naught\n",
        "nN  = numpy.zeros(height*width)  # North\n",
        "nS  = numpy.zeros(height*width)  # South\n",
        "nE  = numpy.zeros(height*width)  # East\n",
        "nW  = numpy.zeros(height*width)  # West\n",
        "nNW = numpy.zeros(height*width)  # Northwest\n",
        "nNE = numpy.zeros(height*width)  # Northeast\n",
        "nSE = numpy.zeros(height*width)  # Southeast\n",
        "nSW = numpy.zeros(height*width)  # Southwest\n",
        "\n",
        "# Barriers\n",
        "bar = numpy.zeros(height*width)  # Barriers\n",
        "\n",
        "# Macroscopic density and velocity\n",
        "rho = numpy.zeros(height*width)    # Cell density\n",
        "ux  = numpy.zeros(height*width)    # Cell x-velocity\n",
        "uy  = numpy.zeros(height*width)    # Cell y-velocity\n",
        "speed2 = numpy.zeros(height*width) # Cell squared velocity"
      ],
      "metadata": {
        "id": "s1KbYcxL_vCH"
      },
      "execution_count": 26,
      "outputs": []
    },
    {
      "cell_type": "code",
      "source": [
        "def stream():\n",
        "\n",
        "    # Stream all internal cells\n",
        "    for x in range(0, width-1):\n",
        "        for y in range(1, height-1):\n",
        "            # Movement north (Northwest corner)\n",
        "            nN[y*width + x] = nN[y*width + x + width]\n",
        "            # Movement northwest (Northwest corner)\n",
        "            nNW[y*width + x] = nNW[y*width + x + width + 1]\n",
        "            # Movement west (Northwest corner)\n",
        "            nW[y*width + x] = nW[y*width + x + 1]\n",
        "            # Movement south (Southwest corner)\n",
        "            nS[(height-y-1)*width + x] = nS[(height-y-1-1)*width + x]\n",
        "            # Movement southwest (Southwest corner)\n",
        "            nSW[(height-y-1)*width + x] = nSW[(height-y-1-1)*width + x + 1]\n",
        "            # Movement east (Northeast corner)\n",
        "            nE[y*width + (width-x-1)] = nE[y*width + (width-(x+1)-1)]\n",
        "            # Movement northeast (Northeast corner)\n",
        "            nNE[y*width + (width-x-1)] = nNE[y*width + width + (width-(x+1)-1)]\n",
        "            # Movement southeast (Southeast corner)\n",
        "            nSE[(height-y-1)*width + (width-x-1)] = nSE[(height-y-1-1)*width +\n",
        "                                                        (width-(x+1)-1)]\n",
        "\n",
        "    # Tidy up the edges\n",
        "    x += 1\n",
        "    for y in range(1, height-1):\n",
        "        # Movement north on right boundary (Northwest corner)\n",
        "        nN[y*width + x] = nN[y*width + x + width]\n",
        "        # Movement south on right boundary (Southwest corner)\n",
        "        nS[(height-y-1)*width + x] = nS[(height-y-1-1)*width + x]"
      ],
      "metadata": {
        "id": "WDmf15XpXEvv"
      },
      "execution_count": 27,
      "outputs": []
    },
    {
      "cell_type": "code",
      "source": [
        "def bounce():\n",
        "\n",
        "    # Loop through all interior cells\n",
        "    for x in range(2, width-2):\n",
        "        for y in range(2, height-2):\n",
        "\n",
        "            # If the cell contains a boundary . . .\n",
        "            if (bar[y*width + x]):\n",
        "\n",
        "                # Push densities back from whence they came\n",
        "                nN[(y-1)*width + x] = nS[y*width + x]\n",
        "                nS[(y+1)*width + x] = nN[y*width + x]\n",
        "                nE[y*width + x + 1] = nW[y*width + x]\n",
        "                nW[y*width + (x-1)] = nE[y*width + x]\n",
        "                nNE[(y-1)*width + (x+1)] = nSW[y*width + x]\n",
        "                nNW[(y-1)*width + (x-1)] = nSE[y*width + x]\n",
        "                nSE[(y+1)*width + (x+1)] = nNW[y*width + x]\n",
        "                nSW[(y+1)*width + (x-1)] = nNE[y*width + x]\n",
        "\n",
        "                # Clear the densities in the barrier cells\n",
        "                n0[y*width + x] = 0\n",
        "                nN[y*width + x] = 0\n",
        "                nS[y*width + x] = 0\n",
        "                nE[y*width + x] = 0\n",
        "                nW[y*width + x] = 0\n",
        "                nNE[y*width + x] = 0\n",
        "                nNW[y*width + x] = 0\n",
        "                nSE[y*width + x] = 0\n",
        "                nSW[y*width + x] = 0"
      ],
      "metadata": {
        "id": "B1aH2aNrXJhE"
      },
      "execution_count": 28,
      "outputs": []
    },
    {
      "cell_type": "code",
      "source": [
        "def collide():\n",
        "\n",
        "    # Do not touch cells on top, bottom, or left\n",
        "    for x in range(1, width-1):\n",
        "        for y in range(1, height-1):\n",
        "\n",
        "            # What's our current index?\n",
        "            i = y*width + x\n",
        "\n",
        "            # Skip over cells containing barriers\n",
        "            if (bar[i]):\n",
        "                continue\n",
        "\n",
        "            else:\n",
        "                # Compute the macroscopic density\n",
        "                rho[i] = n0[i] + nN[i] + nE[i] + nS[i] + nW[i] + nNE[i] + nSE[i] + nSW[i] + nNW[i]\n",
        "                # Compute the macroscopic velocities\n",
        "                if (rho[i] > 0):\n",
        "                    ux[i]  = (nE[i] + nNE[i] + nSE[i] - nW[i] - nNW[i] - nSW[i]) * (1-(rho[i]-1)+((rho[i]-1)**2.))\n",
        "                    uy[i]  = (nN[i] + nNE[i] + nNW[i] - nS[i] - nSE[i] - nSW[i]) * (1-(rho[i]-1)+((rho[i]-1)**2.))\n",
        "\n",
        "                # Pre-compute some convenient constants\n",
        "                one9th_rho = one9th * rho[i]\n",
        "                one36th_rho = one36th * rho[i]\n",
        "                vx3 = 3 * ux[i]\n",
        "                vy3 = 3 * uy[i]\n",
        "                vx2 = ux[i] * ux[i]\n",
        "                vy2 = uy[i] * uy[i]\n",
        "                vxvy2 = 2 * ux[i] * uy[i]\n",
        "                v2 = vx2 + vy2\n",
        "                speed2[i] = v2\n",
        "                v215 = 1.5 * v2\n",
        "\n",
        "                # Update densities\n",
        "                nE[i]  += omega * (   one9th_rho * (1 + vx3       + 4.5*vx2        - v215) - nE[i])\n",
        "                nW[i]  += omega * (   one9th_rho * (1 - vx3       + 4.5*vx2        - v215) - nW[i])\n",
        "                nN[i]  += omega * (   one9th_rho * (1 + vy3       + 4.5*vy2        - v215) - nN[i])\n",
        "                nS[i]  += omega * (   one9th_rho * (1 - vy3       + 4.5*vy2        - v215) - nS[i])\n",
        "                nNE[i] += omega * (  one36th_rho * (1 + vx3 + vy3 + 4.5*(v2+vxvy2) - v215) - nNE[i])\n",
        "                nNW[i] += omega * (  one36th_rho * (1 - vx3 + vy3 + 4.5*(v2-vxvy2) - v215) - nNW[i])\n",
        "                nSE[i] += omega * (  one36th_rho * (1 + vx3 - vy3 + 4.5*(v2-vxvy2) - v215) - nSE[i])\n",
        "                nSW[i] += omega * (  one36th_rho * (1 - vx3 - vy3 + 4.5*(v2+vxvy2) - v215) - nSW[i])\n",
        "\n",
        "                # Conserve mass\n",
        "                n0[i]   = rho[i] - (nE[i]+nW[i]+nN[i]+nS[i]+nNE[i]+nSE[i]+nNW[i]+nSW[i]);"
      ],
      "metadata": {
        "id": "4dyxPi2uXLMr"
      },
      "execution_count": 29,
      "outputs": []
    },
    {
      "cell_type": "code",
      "source": [
        "def initialize(xtop, ytop, yheight, u0=u0):\n",
        "    xcoord = 0\n",
        "    ycoord = 0\n",
        "\n",
        "    count = 0\n",
        "    for i in range(height*width):\n",
        "        n0[i] = four9ths* (1 - 1.5*(u0**2.))\n",
        "        nN[i] = one9th  * (1 - 1.5*(u0**2.))\n",
        "        nS[i] = one9th  * (1 - 1.5*(u0**2.))\n",
        "        nE[i] = one9th  * (1 + 3*u0 + 4.5*(u0**2.) - 1.5*(u0**2.))\n",
        "        nW[i] = one9th  * (1 - 3*u0 + 4.5*(u0**2.) - 1.5*(u0**2.))\n",
        "        nNE[i]= one36th * (1 + 3*u0 + 4.5*(u0**2.) - 1.5*(u0**2.))\n",
        "        nSE[i]= one36th * (1 + 3*u0 + 4.5*(u0**2.) - 1.5*(u0**2.))\n",
        "        nNW[i]= one36th * (1 - 3*u0 + 4.5*(u0**2.) - 1.5*(u0**2.))\n",
        "        nSW[i]= one36th * (1 - 3*u0 + 4.5*(u0**2.) - 1.5*(u0**2.))\n",
        "\n",
        "        rho[i] =  n0[i] + nN[i] + nS[i] + nE[i] + nW[i] + nNE[i] + nSE[i] + nNW[i] + nSW[i]\n",
        "\n",
        "        ux[i]  = (nE[i] + nNE[i] + nSE[i] - nW[i] - nNW[i] - nSW[i]) * (1-(rho[i]-1)+((rho[i]-1)**2.))\n",
        "        uy[i]  = (nN[i] + nNE[i] + nNW[i] - nS[i] - nSE[i] - nSW[i]) * (1-(rho[i]-1)+((rho[i]-1)**2.))\n",
        "\n",
        "        if (xcoord==xtop):\n",
        "            if (ycoord >= ytop):\n",
        "                if (ycoord < (ytop+yheight)):\n",
        "                    count += 1\n",
        "                    bar[ycoord*width + xcoord] = 1\n",
        "\n",
        "        xcoord = (xcoord+1) if xcoord<(width-1) else 0\n",
        "        ycoord = ycoord if (xcoord != 0) else (ycoord + 1)"
      ],
      "metadata": {
        "id": "mN0cKhBpXPtE"
      },
      "execution_count": 30,
      "outputs": []
    },
    {
      "cell_type": "code",
      "source": [
        "import numpy\n",
        "import matplotlib.pyplot as plt\n",
        "import matplotlib.animation as animation\n",
        "from matplotlib import rc\n",
        "plt.rcParams[\"figure.figsize\"] = (50,3)"
      ],
      "metadata": {
        "id": "qxFqNeuSXTbm"
      },
      "execution_count": 31,
      "outputs": []
    },
    {
      "cell_type": "code",
      "source": [
        "# Frames per second, and number of seconds\n",
        "fps = 600\n",
        "nSeconds = 15\n",
        "\n",
        "# First set up the figure, the axis, and the plot element we want to animate\n",
        "fig = plt.figure( figsize=(20,5) )\n",
        "\n",
        "# Initialize the barriers (occurs in previous section)\n",
        "initialize(60, 60, 20)\n",
        "\n",
        "# Don't animate first few frames\n",
        "for i in range(10):\n",
        "    stream()\n",
        "    bounce()\n",
        "    collide()\n",
        "\n",
        "# Plot which we'll be animating\n",
        "a = speed2\n",
        "im = plt.imshow(a.reshape(height,width))\n",
        "\n",
        "# Animation function (stream, bounce, collide, and update heatmap)\n",
        "def animate_func(i):\n",
        "    stream()\n",
        "    bounce()\n",
        "    collide()\n",
        "    im.set_array(speed2.reshape(height, width))\n",
        "    return [im]\n",
        "\n",
        "# Animation object\n",
        "anim = animation.FuncAnimation(\n",
        "                               fig,\n",
        "                               animate_func,\n",
        "                               frames = nSeconds * fps,\n",
        "                               interval = 1000 / fps, # in ms\n",
        "                               )\n",
        "\n",
        "print('Done!')\n",
        "\n",
        "# Generate an mp4 video of the animation\n",
        "f = r\"./animation5.mp4\"\n",
        "writervideo = animation.FFMpegWriter(fps=600)\n",
        "anim.save(f, writer=writervideo)"
      ],
      "metadata": {
        "colab": {
          "base_uri": "https://localhost:8080/",
          "height": 904
        },
        "id": "j6LkmNgeXQFA",
        "outputId": "2f72cf18-8b5b-4c15-9513-5b1328af47d2"
      },
      "execution_count": 32,
      "outputs": [
        {
          "output_type": "stream",
          "name": "stdout",
          "text": [
            "Done!\n"
          ]
        },
        {
          "output_type": "error",
          "ename": "CalledProcessError",
          "evalue": "Command '['ffmpeg', '-f', 'rawvideo', '-vcodec', 'rawvideo', '-s', '2000x500', '-pix_fmt', 'rgba', '-r', '600', '-loglevel', 'error', '-i', 'pipe:', '-vcodec', 'h264', '-pix_fmt', 'yuv420p', '-y', './animation5.mp4']' returned non-zero exit status 255.",
          "traceback": [
            "\u001b[0;31m---------------------------------------------------------------------------\u001b[0m",
            "\u001b[0;31mKeyboardInterrupt\u001b[0m                         Traceback (most recent call last)",
            "\u001b[0;32m/usr/local/lib/python3.10/dist-packages/matplotlib/animation.py\u001b[0m in \u001b[0;36msaving\u001b[0;34m(self, fig, outfile, dpi, *args, **kwargs)\u001b[0m\n\u001b[1;32m    232\u001b[0m         \u001b[0;32mtry\u001b[0m\u001b[0;34m:\u001b[0m\u001b[0;34m\u001b[0m\u001b[0;34m\u001b[0m\u001b[0m\n\u001b[0;32m--> 233\u001b[0;31m             \u001b[0;32myield\u001b[0m \u001b[0mself\u001b[0m\u001b[0;34m\u001b[0m\u001b[0;34m\u001b[0m\u001b[0m\n\u001b[0m\u001b[1;32m    234\u001b[0m         \u001b[0;32mfinally\u001b[0m\u001b[0;34m:\u001b[0m\u001b[0;34m\u001b[0m\u001b[0;34m\u001b[0m\u001b[0m\n",
            "\u001b[0;32m/usr/local/lib/python3.10/dist-packages/matplotlib/animation.py\u001b[0m in \u001b[0;36msave\u001b[0;34m(self, filename, writer, fps, dpi, codec, bitrate, extra_args, metadata, extra_anim, savefig_kwargs, progress_callback)\u001b[0m\n\u001b[1;32m   1102\u001b[0m                     \u001b[0;31m# TODO: See if turning off blit is really necessary\u001b[0m\u001b[0;34m\u001b[0m\u001b[0;34m\u001b[0m\u001b[0m\n\u001b[0;32m-> 1103\u001b[0;31m                     \u001b[0manim\u001b[0m\u001b[0;34m.\u001b[0m\u001b[0m_draw_next_frame\u001b[0m\u001b[0;34m(\u001b[0m\u001b[0md\u001b[0m\u001b[0;34m,\u001b[0m \u001b[0mblit\u001b[0m\u001b[0;34m=\u001b[0m\u001b[0;32mFalse\u001b[0m\u001b[0;34m)\u001b[0m\u001b[0;34m\u001b[0m\u001b[0;34m\u001b[0m\u001b[0m\n\u001b[0m\u001b[1;32m   1104\u001b[0m                     \u001b[0;32mif\u001b[0m \u001b[0mprogress_callback\u001b[0m \u001b[0;32mis\u001b[0m \u001b[0;32mnot\u001b[0m \u001b[0;32mNone\u001b[0m\u001b[0;34m:\u001b[0m\u001b[0;34m\u001b[0m\u001b[0;34m\u001b[0m\u001b[0m\n",
            "\u001b[0;32m/usr/local/lib/python3.10/dist-packages/matplotlib/animation.py\u001b[0m in \u001b[0;36m_draw_next_frame\u001b[0;34m(self, framedata, blit)\u001b[0m\n\u001b[1;32m   1137\u001b[0m         \u001b[0mself\u001b[0m\u001b[0;34m.\u001b[0m\u001b[0m_pre_draw\u001b[0m\u001b[0;34m(\u001b[0m\u001b[0mframedata\u001b[0m\u001b[0;34m,\u001b[0m \u001b[0mblit\u001b[0m\u001b[0;34m)\u001b[0m\u001b[0;34m\u001b[0m\u001b[0;34m\u001b[0m\u001b[0m\n\u001b[0;32m-> 1138\u001b[0;31m         \u001b[0mself\u001b[0m\u001b[0;34m.\u001b[0m\u001b[0m_draw_frame\u001b[0m\u001b[0;34m(\u001b[0m\u001b[0mframedata\u001b[0m\u001b[0;34m)\u001b[0m\u001b[0;34m\u001b[0m\u001b[0;34m\u001b[0m\u001b[0m\n\u001b[0m\u001b[1;32m   1139\u001b[0m         \u001b[0mself\u001b[0m\u001b[0;34m.\u001b[0m\u001b[0m_post_draw\u001b[0m\u001b[0;34m(\u001b[0m\u001b[0mframedata\u001b[0m\u001b[0;34m,\u001b[0m \u001b[0mblit\u001b[0m\u001b[0;34m)\u001b[0m\u001b[0;34m\u001b[0m\u001b[0;34m\u001b[0m\u001b[0m\n",
            "\u001b[0;32m/usr/local/lib/python3.10/dist-packages/matplotlib/animation.py\u001b[0m in \u001b[0;36m_draw_frame\u001b[0;34m(self, framedata)\u001b[0m\n\u001b[1;32m   1766\u001b[0m         \u001b[0;31m# func needs to return a sequence of any artists that were modified.\u001b[0m\u001b[0;34m\u001b[0m\u001b[0;34m\u001b[0m\u001b[0m\n\u001b[0;32m-> 1767\u001b[0;31m         \u001b[0mself\u001b[0m\u001b[0;34m.\u001b[0m\u001b[0m_drawn_artists\u001b[0m \u001b[0;34m=\u001b[0m \u001b[0mself\u001b[0m\u001b[0;34m.\u001b[0m\u001b[0m_func\u001b[0m\u001b[0;34m(\u001b[0m\u001b[0mframedata\u001b[0m\u001b[0;34m,\u001b[0m \u001b[0;34m*\u001b[0m\u001b[0mself\u001b[0m\u001b[0;34m.\u001b[0m\u001b[0m_args\u001b[0m\u001b[0;34m)\u001b[0m\u001b[0;34m\u001b[0m\u001b[0;34m\u001b[0m\u001b[0m\n\u001b[0m\u001b[1;32m   1768\u001b[0m \u001b[0;34m\u001b[0m\u001b[0m\n",
            "\u001b[0;32m<ipython-input-32-d29c3041d2f6>\u001b[0m in \u001b[0;36manimate_func\u001b[0;34m(i)\u001b[0m\n\u001b[1;32m     24\u001b[0m     \u001b[0mbounce\u001b[0m\u001b[0;34m(\u001b[0m\u001b[0;34m)\u001b[0m\u001b[0;34m\u001b[0m\u001b[0;34m\u001b[0m\u001b[0m\n\u001b[0;32m---> 25\u001b[0;31m     \u001b[0mcollide\u001b[0m\u001b[0;34m(\u001b[0m\u001b[0;34m)\u001b[0m\u001b[0;34m\u001b[0m\u001b[0;34m\u001b[0m\u001b[0m\n\u001b[0m\u001b[1;32m     26\u001b[0m     \u001b[0mim\u001b[0m\u001b[0;34m.\u001b[0m\u001b[0mset_array\u001b[0m\u001b[0;34m(\u001b[0m\u001b[0mspeed2\u001b[0m\u001b[0;34m.\u001b[0m\u001b[0mreshape\u001b[0m\u001b[0;34m(\u001b[0m\u001b[0mheight\u001b[0m\u001b[0;34m,\u001b[0m \u001b[0mwidth\u001b[0m\u001b[0;34m)\u001b[0m\u001b[0;34m)\u001b[0m\u001b[0;34m\u001b[0m\u001b[0;34m\u001b[0m\u001b[0m\n",
            "\u001b[0;32m<ipython-input-29-d957024644d4>\u001b[0m in \u001b[0;36mcollide\u001b[0;34m()\u001b[0m\n\u001b[1;32m     44\u001b[0m                 \u001b[0;31m# Conserve mass\u001b[0m\u001b[0;34m\u001b[0m\u001b[0;34m\u001b[0m\u001b[0m\n\u001b[0;32m---> 45\u001b[0;31m                 \u001b[0mn0\u001b[0m\u001b[0;34m[\u001b[0m\u001b[0mi\u001b[0m\u001b[0;34m]\u001b[0m   \u001b[0;34m=\u001b[0m \u001b[0mrho\u001b[0m\u001b[0;34m[\u001b[0m\u001b[0mi\u001b[0m\u001b[0;34m]\u001b[0m \u001b[0;34m-\u001b[0m \u001b[0;34m(\u001b[0m\u001b[0mnE\u001b[0m\u001b[0;34m[\u001b[0m\u001b[0mi\u001b[0m\u001b[0;34m]\u001b[0m\u001b[0;34m+\u001b[0m\u001b[0mnW\u001b[0m\u001b[0;34m[\u001b[0m\u001b[0mi\u001b[0m\u001b[0;34m]\u001b[0m\u001b[0;34m+\u001b[0m\u001b[0mnN\u001b[0m\u001b[0;34m[\u001b[0m\u001b[0mi\u001b[0m\u001b[0;34m]\u001b[0m\u001b[0;34m+\u001b[0m\u001b[0mnS\u001b[0m\u001b[0;34m[\u001b[0m\u001b[0mi\u001b[0m\u001b[0;34m]\u001b[0m\u001b[0;34m+\u001b[0m\u001b[0mnNE\u001b[0m\u001b[0;34m[\u001b[0m\u001b[0mi\u001b[0m\u001b[0;34m]\u001b[0m\u001b[0;34m+\u001b[0m\u001b[0mnSE\u001b[0m\u001b[0;34m[\u001b[0m\u001b[0mi\u001b[0m\u001b[0;34m]\u001b[0m\u001b[0;34m+\u001b[0m\u001b[0mnNW\u001b[0m\u001b[0;34m[\u001b[0m\u001b[0mi\u001b[0m\u001b[0;34m]\u001b[0m\u001b[0;34m+\u001b[0m\u001b[0mnSW\u001b[0m\u001b[0;34m[\u001b[0m\u001b[0mi\u001b[0m\u001b[0;34m]\u001b[0m\u001b[0;34m)\u001b[0m\u001b[0;34m;\u001b[0m\u001b[0;34m\u001b[0m\u001b[0;34m\u001b[0m\u001b[0m\n\u001b[0m",
            "\u001b[0;31mKeyboardInterrupt\u001b[0m: ",
            "\nDuring handling of the above exception, another exception occurred:\n",
            "\u001b[0;31mCalledProcessError\u001b[0m                        Traceback (most recent call last)",
            "\u001b[0;32m<ipython-input-32-d29c3041d2f6>\u001b[0m in \u001b[0;36m<cell line: 42>\u001b[0;34m()\u001b[0m\n\u001b[1;32m     40\u001b[0m \u001b[0mf\u001b[0m \u001b[0;34m=\u001b[0m \u001b[0;34mr\"./animation5.mp4\"\u001b[0m\u001b[0;34m\u001b[0m\u001b[0;34m\u001b[0m\u001b[0m\n\u001b[1;32m     41\u001b[0m \u001b[0mwritervideo\u001b[0m \u001b[0;34m=\u001b[0m \u001b[0manimation\u001b[0m\u001b[0;34m.\u001b[0m\u001b[0mFFMpegWriter\u001b[0m\u001b[0;34m(\u001b[0m\u001b[0mfps\u001b[0m\u001b[0;34m=\u001b[0m\u001b[0;36m600\u001b[0m\u001b[0;34m)\u001b[0m\u001b[0;34m\u001b[0m\u001b[0;34m\u001b[0m\u001b[0m\n\u001b[0;32m---> 42\u001b[0;31m \u001b[0manim\u001b[0m\u001b[0;34m.\u001b[0m\u001b[0msave\u001b[0m\u001b[0;34m(\u001b[0m\u001b[0mf\u001b[0m\u001b[0;34m,\u001b[0m \u001b[0mwriter\u001b[0m\u001b[0;34m=\u001b[0m\u001b[0mwritervideo\u001b[0m\u001b[0;34m)\u001b[0m\u001b[0;34m\u001b[0m\u001b[0;34m\u001b[0m\u001b[0m\n\u001b[0m",
            "\u001b[0;32m/usr/local/lib/python3.10/dist-packages/matplotlib/animation.py\u001b[0m in \u001b[0;36msave\u001b[0;34m(self, filename, writer, fps, dpi, codec, bitrate, extra_args, metadata, extra_anim, savefig_kwargs, progress_callback)\u001b[0m\n\u001b[1;32m   1083\u001b[0m         \u001b[0;31m# callback a no-op; canvas.manager = None prevents resizing the GUI\u001b[0m\u001b[0;34m\u001b[0m\u001b[0;34m\u001b[0m\u001b[0m\n\u001b[1;32m   1084\u001b[0m         \u001b[0;31m# widget (both are likewise done in savefig()).\u001b[0m\u001b[0;34m\u001b[0m\u001b[0;34m\u001b[0m\u001b[0m\n\u001b[0;32m-> 1085\u001b[0;31m         \u001b[0;32mwith\u001b[0m \u001b[0mmpl\u001b[0m\u001b[0;34m.\u001b[0m\u001b[0mrc_context\u001b[0m\u001b[0;34m(\u001b[0m\u001b[0;34m{\u001b[0m\u001b[0;34m'savefig.bbox'\u001b[0m\u001b[0;34m:\u001b[0m \u001b[0;32mNone\u001b[0m\u001b[0;34m}\u001b[0m\u001b[0;34m)\u001b[0m\u001b[0;34m,\u001b[0m\u001b[0;31m \u001b[0m\u001b[0;31m\\\u001b[0m\u001b[0;34m\u001b[0m\u001b[0;34m\u001b[0m\u001b[0m\n\u001b[0m\u001b[1;32m   1086\u001b[0m              \u001b[0mwriter\u001b[0m\u001b[0;34m.\u001b[0m\u001b[0msaving\u001b[0m\u001b[0;34m(\u001b[0m\u001b[0mself\u001b[0m\u001b[0;34m.\u001b[0m\u001b[0m_fig\u001b[0m\u001b[0;34m,\u001b[0m \u001b[0mfilename\u001b[0m\u001b[0;34m,\u001b[0m \u001b[0mdpi\u001b[0m\u001b[0;34m)\u001b[0m\u001b[0;34m,\u001b[0m\u001b[0;31m \u001b[0m\u001b[0;31m\\\u001b[0m\u001b[0;34m\u001b[0m\u001b[0;34m\u001b[0m\u001b[0m\n\u001b[1;32m   1087\u001b[0m              cbook._setattr_cm(self._fig.canvas,\n",
            "\u001b[0;32m/usr/lib/python3.10/contextlib.py\u001b[0m in \u001b[0;36m__exit__\u001b[0;34m(self, typ, value, traceback)\u001b[0m\n\u001b[1;32m    151\u001b[0m                 \u001b[0mvalue\u001b[0m \u001b[0;34m=\u001b[0m \u001b[0mtyp\u001b[0m\u001b[0;34m(\u001b[0m\u001b[0;34m)\u001b[0m\u001b[0;34m\u001b[0m\u001b[0;34m\u001b[0m\u001b[0m\n\u001b[1;32m    152\u001b[0m             \u001b[0;32mtry\u001b[0m\u001b[0;34m:\u001b[0m\u001b[0;34m\u001b[0m\u001b[0;34m\u001b[0m\u001b[0m\n\u001b[0;32m--> 153\u001b[0;31m                 \u001b[0mself\u001b[0m\u001b[0;34m.\u001b[0m\u001b[0mgen\u001b[0m\u001b[0;34m.\u001b[0m\u001b[0mthrow\u001b[0m\u001b[0;34m(\u001b[0m\u001b[0mtyp\u001b[0m\u001b[0;34m,\u001b[0m \u001b[0mvalue\u001b[0m\u001b[0;34m,\u001b[0m \u001b[0mtraceback\u001b[0m\u001b[0;34m)\u001b[0m\u001b[0;34m\u001b[0m\u001b[0;34m\u001b[0m\u001b[0m\n\u001b[0m\u001b[1;32m    154\u001b[0m             \u001b[0;32mexcept\u001b[0m \u001b[0mStopIteration\u001b[0m \u001b[0;32mas\u001b[0m \u001b[0mexc\u001b[0m\u001b[0;34m:\u001b[0m\u001b[0;34m\u001b[0m\u001b[0;34m\u001b[0m\u001b[0m\n\u001b[1;32m    155\u001b[0m                 \u001b[0;31m# Suppress StopIteration *unless* it's the same exception that\u001b[0m\u001b[0;34m\u001b[0m\u001b[0;34m\u001b[0m\u001b[0m\n",
            "\u001b[0;32m/usr/local/lib/python3.10/dist-packages/matplotlib/animation.py\u001b[0m in \u001b[0;36msaving\u001b[0;34m(self, fig, outfile, dpi, *args, **kwargs)\u001b[0m\n\u001b[1;32m    233\u001b[0m             \u001b[0;32myield\u001b[0m \u001b[0mself\u001b[0m\u001b[0;34m\u001b[0m\u001b[0;34m\u001b[0m\u001b[0m\n\u001b[1;32m    234\u001b[0m         \u001b[0;32mfinally\u001b[0m\u001b[0;34m:\u001b[0m\u001b[0;34m\u001b[0m\u001b[0;34m\u001b[0m\u001b[0m\n\u001b[0;32m--> 235\u001b[0;31m             \u001b[0mself\u001b[0m\u001b[0;34m.\u001b[0m\u001b[0mfinish\u001b[0m\u001b[0;34m(\u001b[0m\u001b[0;34m)\u001b[0m\u001b[0;34m\u001b[0m\u001b[0;34m\u001b[0m\u001b[0m\n\u001b[0m\u001b[1;32m    236\u001b[0m \u001b[0;34m\u001b[0m\u001b[0m\n\u001b[1;32m    237\u001b[0m \u001b[0;34m\u001b[0m\u001b[0m\n",
            "\u001b[0;32m/usr/local/lib/python3.10/dist-packages/matplotlib/animation.py\u001b[0m in \u001b[0;36mfinish\u001b[0;34m(self)\u001b[0m\n\u001b[1;32m    347\u001b[0m                 \"MovieWriter stderr:\\n%s\", err)\n\u001b[1;32m    348\u001b[0m         \u001b[0;32mif\u001b[0m \u001b[0mself\u001b[0m\u001b[0;34m.\u001b[0m\u001b[0m_proc\u001b[0m\u001b[0;34m.\u001b[0m\u001b[0mreturncode\u001b[0m\u001b[0;34m:\u001b[0m\u001b[0;34m\u001b[0m\u001b[0;34m\u001b[0m\u001b[0m\n\u001b[0;32m--> 349\u001b[0;31m             raise subprocess.CalledProcessError(\n\u001b[0m\u001b[1;32m    350\u001b[0m                 self._proc.returncode, self._proc.args, out, err)\n\u001b[1;32m    351\u001b[0m \u001b[0;34m\u001b[0m\u001b[0m\n",
            "\u001b[0;31mCalledProcessError\u001b[0m: Command '['ffmpeg', '-f', 'rawvideo', '-vcodec', 'rawvideo', '-s', '2000x500', '-pix_fmt', 'rgba', '-r', '600', '-loglevel', 'error', '-i', 'pipe:', '-vcodec', 'h264', '-pix_fmt', 'yuv420p', '-y', './animation5.mp4']' returned non-zero exit status 255."
          ]
        },
        {
          "output_type": "display_data",
          "data": {
            "text/plain": [
              "<Figure size 2000x500 with 1 Axes>"
            ],
            "image/png": "[encoded data removed]"
          },
          "metadata": {}
        }
      ]
    },
    {
      "cell_type": "code",
      "source": [],
      "metadata": {
        "id": "EKP_cDrj8g2l"
      },
      "execution_count": null,
      "outputs": []
    }
  ]
}